{
 "cells": [
  {
   "cell_type": "markdown",
   "id": "13052227-9b39-4042-a663-1456d7d2fbf9",
   "metadata": {},
   "source": [
    "# Linear Regression"
   ]
  },
  {
   "cell_type": "markdown",
   "id": "e3f816f1-33e1-4d10-9dd9-0c80c6d092a4",
   "metadata": {},
   "source": [
    "### A Statistical Modeling paradigm defines the relationship between the dependant variable with respect to the given set of independent variables"
   ]
  },
  {
   "cell_type": "code",
   "execution_count": null,
   "id": "989510f4-255c-4787-94bc-95dfc3ef053c",
   "metadata": {},
   "outputs": [],
   "source": []
  }
 ],
 "metadata": {
  "kernelspec": {
   "display_name": "Python 3 (ipykernel)",
   "language": "python",
   "name": "python3"
  },
  "language_info": {
   "codemirror_mode": {
    "name": "ipython",
    "version": 3
   },
   "file_extension": ".py",
   "mimetype": "text/x-python",
   "name": "python",
   "nbconvert_exporter": "python",
   "pygments_lexer": "ipython3",
   "version": "3.8.8"
  }
 },
 "nbformat": 4,
 "nbformat_minor": 5
}
